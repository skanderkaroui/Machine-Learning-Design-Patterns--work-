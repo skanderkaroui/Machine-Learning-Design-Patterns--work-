{
 "cells": [
  {
   "cell_type": "code",
   "execution_count": 19,
   "metadata": {},
   "outputs": [],
   "source": [
    "from sklearn import datasets, linear_model\n",
    "diabetes_X, diabetes_Y = datasets.load_diabetes(return_X_y=True)"
   ]
  },
  {
   "cell_type": "code",
   "execution_count": 20,
   "metadata": {},
   "outputs": [],
   "source": [
    "raw = diabetes_X[:, None, 2]\n",
    "\n",
    "max_raw = max(raw)\n",
    "min_raw = min(raw)\n",
    "\n",
    "scaled = (2*raw - max_raw - min_raw)/(max_raw - min_raw)"
   ]
  },
  {
   "cell_type": "code",
   "execution_count": 22,
   "metadata": {},
   "outputs": [
    {
     "name": "stdout",
     "output_type": "stream",
     "text": [
      "Raw: 0.2107s, Scaled: 0.2029s, Improvements: 3.722012%\n"
     ]
    }
   ],
   "source": [
    "def train_raw():\n",
    "    linear_model.LinearRegression().fit(raw, diabetes_Y)\n",
    "\n",
    "def train_scaled():\n",
    "    linear_model.LinearRegression().fit(scaled, diabetes_Y)\n",
    "\n",
    "import timeit\n",
    "raw_time = timeit.timeit(train_raw, number=1000)\n",
    "scaled_time = timeit.timeit(train_scaled, number=1000)\n",
    "\n",
    "print('Raw: {:.4f}s, Scaled: {:.4f}s, Improvements: {:2f}%'\n",
    "      .format(raw_time, scaled_time, 100*(raw_time - scaled_time)/raw_time)\n",
    "      )"
   ]
  }
 ],
 "metadata": {
  "kernelspec": {
   "display_name": "Python 3",
   "language": "python",
   "name": "python3"
  },
  "language_info": {
   "codemirror_mode": {
    "name": "ipython",
    "version": 3
   },
   "file_extension": ".py",
   "mimetype": "text/x-python",
   "name": "python",
   "nbconvert_exporter": "python",
   "pygments_lexer": "ipython3",
   "version": "3.11.9"
  }
 },
 "nbformat": 4,
 "nbformat_minor": 2
}
